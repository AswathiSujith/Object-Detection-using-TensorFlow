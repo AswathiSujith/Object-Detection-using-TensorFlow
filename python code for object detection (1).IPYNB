import tensorflow as tf
import cv2
import numpy as np

# Load pre-trained model from TensorFlow Hub
import tensorflow_hub as hub
model = hub.load("https://tfhub.dev/tensorflow/ssd_mobilenet_v2/2")

# Load image
image = cv2.imread("test.jpg")
image_rgb = cv2.cvtColor(image, cv2.COLOR_BGR2RGB)
input_tensor = tf.convert_to_tensor([image_rgb], dtype=tf.uint8)

# Run detection
detections = model(input_tensor)

# Extract detection results
boxes = detections['detection_boxes'][0].numpy()
scores = detections['detection_scores'][0].numpy()
classes = detections['detection_classes'][0].numpy().astype(np.int32)

# Draw bounding boxes
for i in range(len(scores)):
    if scores[i] > 0.5:
        ymin, xmin, ymax, xmax = boxes[i]
        (h, w, _) = image.shape
        cv2.rectangle(image, (int(xmin*w), int(ymin*h)), (int(xmax*w), int(ymax*h)), (0,255,0), 2)

cv2.imshow("Object Detection", image)
cv2.waitKey(0)
cv2.destroyAllWindows()


---